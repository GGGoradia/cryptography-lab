{
  "nbformat": 4,
  "nbformat_minor": 0,
  "metadata": {
    "colab": {
      "provenance": [],
      "authorship_tag": "ABX9TyMJggfJ7eTGCo0IAVa+POIV",
      "include_colab_link": true
    },
    "kernelspec": {
      "name": "python3",
      "display_name": "Python 3"
    },
    "language_info": {
      "name": "python"
    }
  },
  "cells": [
    {
      "cell_type": "markdown",
      "metadata": {
        "id": "view-in-github",
        "colab_type": "text"
      },
      "source": [
        "<a href=\"https://colab.research.google.com/github/GGGoradia/cryptography-lab/blob/main/dhke.ipynb\" target=\"_parent\"><img src=\"https://colab.research.google.com/assets/colab-badge.svg\" alt=\"Open In Colab\"/></a>"
      ]
    },
    {
      "cell_type": "code",
      "source": [
        "!pip install pycryptodome"
      ],
      "metadata": {
        "id": "_hNGXxL7ozzp"
      },
      "execution_count": null,
      "outputs": []
    },
    {
      "cell_type": "code",
      "execution_count": null,
      "metadata": {
        "id": "zsGNUVzCjnjp"
      },
      "outputs": [],
      "source": [
        "import random\n",
        "from random import getrandbits\n",
        "from Crypto.Util import number\n",
        "n_length = 28\n",
        "p= number.getPrime(n_length)#public parameters\n",
        "g=random.randint(2,p-1)\n",
        "print(\"public parameters\",p,g)"
      ]
    },
    {
      "cell_type": "code",
      "source": [
        "#alices computation\n",
        "import random\n",
        "a=getrandbits(n_length)\n",
        "A=pow(g,a,p)"
      ],
      "metadata": {
        "id": "X9zI3PrTj877"
      },
      "execution_count": null,
      "outputs": []
    },
    {
      "cell_type": "code",
      "source": [
        "#bobs computation\n",
        "b=getrandbits(n_length)\n",
        "B=pow(g,b,p)\n"
      ],
      "metadata": {
        "id": "j0OEFZktkiM1"
      },
      "execution_count": null,
      "outputs": []
    },
    {
      "cell_type": "code",
      "source": [
        "#alice recieving bobs message\n",
        "print(\"bob to alice: \",B)\n",
        "SA=pow(B,a,p)"
      ],
      "metadata": {
        "id": "JUj7QQ4Jkl_A"
      },
      "execution_count": null,
      "outputs": []
    },
    {
      "cell_type": "code",
      "source": [
        "#bob recieving alices message\n",
        "print(\"alice to bob: \",A)\n",
        "SB=pow(A,b,p)\n"
      ],
      "metadata": {
        "id": "gG_rHqBik1a_"
      },
      "execution_count": null,
      "outputs": []
    },
    {
      "cell_type": "code",
      "source": [
        "assert SA==SB\n",
        "print(\"alice and bob now have the same shared key\")\n"
      ],
      "metadata": {
        "id": "h0OwEWTvlALW"
      },
      "execution_count": null,
      "outputs": []
    },
    {
      "cell_type": "markdown",
      "source": [
        "We have only seen the public parameters and what alice sent to bob and what bob sent to alice.Now we will find the shared the key from just the public information. This is a man in the middle attack."
      ],
      "metadata": {
        "id": "OyipUvbrlchk"
      }
    },
    {
      "cell_type": "code",
      "source": [
        "def dlog(y,base,mod):\n",
        "  for i in range(mod-1):#assuming mod is prime\n",
        "    if(pow(base,i,mod)==y):\n",
        "      return i\n",
        ""
      ],
      "metadata": {
        "id": "RSfn4KU3lgqB"
      },
      "execution_count": null,
      "outputs": []
    },
    {
      "cell_type": "code",
      "source": [
        "import time\n",
        "_n=time.perf_counter()\n",
        "guess_a=dlog(A,g,p)\n",
        "guess_b=dlog(B,g,p)\n",
        "print(\"guess a: \",guess_a)\n",
        "print(\"guess b: \",guess_b)\n",
        "print(\"time taken to guess:\",time.perf_counter()-_n)"
      ],
      "metadata": {
        "colab": {
          "base_uri": "https://localhost:8080/",
          "height": 343
        },
        "id": "gLE8Ir7bmRWU",
        "outputId": "c9fb40eb-251c-420b-ce2d-9430f500dc7b"
      },
      "execution_count": 67,
      "outputs": [
        {
          "output_type": "error",
          "ename": "KeyboardInterrupt",
          "evalue": "",
          "traceback": [
            "\u001b[0;31m---------------------------------------------------------------------------\u001b[0m",
            "\u001b[0;31mKeyboardInterrupt\u001b[0m                         Traceback (most recent call last)",
            "\u001b[0;32m<ipython-input-67-4ce058894a15>\u001b[0m in \u001b[0;36m<cell line: 0>\u001b[0;34m()\u001b[0m\n\u001b[1;32m      2\u001b[0m \u001b[0m_n\u001b[0m\u001b[0;34m=\u001b[0m\u001b[0mtime\u001b[0m\u001b[0;34m.\u001b[0m\u001b[0mperf_counter\u001b[0m\u001b[0;34m(\u001b[0m\u001b[0;34m)\u001b[0m\u001b[0;34m\u001b[0m\u001b[0;34m\u001b[0m\u001b[0m\n\u001b[1;32m      3\u001b[0m \u001b[0mguess_a\u001b[0m\u001b[0;34m=\u001b[0m\u001b[0mdlog\u001b[0m\u001b[0;34m(\u001b[0m\u001b[0mA\u001b[0m\u001b[0;34m,\u001b[0m\u001b[0mg\u001b[0m\u001b[0;34m,\u001b[0m\u001b[0mp\u001b[0m\u001b[0;34m)\u001b[0m\u001b[0;34m\u001b[0m\u001b[0;34m\u001b[0m\u001b[0m\n\u001b[0;32m----> 4\u001b[0;31m \u001b[0mguess_b\u001b[0m\u001b[0;34m=\u001b[0m\u001b[0mdlog\u001b[0m\u001b[0;34m(\u001b[0m\u001b[0mB\u001b[0m\u001b[0;34m,\u001b[0m\u001b[0mg\u001b[0m\u001b[0;34m,\u001b[0m\u001b[0mp\u001b[0m\u001b[0;34m)\u001b[0m\u001b[0;34m\u001b[0m\u001b[0;34m\u001b[0m\u001b[0m\n\u001b[0m\u001b[1;32m      5\u001b[0m \u001b[0mprint\u001b[0m\u001b[0;34m(\u001b[0m\u001b[0;34m\"guess a: \"\u001b[0m\u001b[0;34m,\u001b[0m\u001b[0mguess_a\u001b[0m\u001b[0;34m)\u001b[0m\u001b[0;34m\u001b[0m\u001b[0;34m\u001b[0m\u001b[0m\n\u001b[1;32m      6\u001b[0m \u001b[0mprint\u001b[0m\u001b[0;34m(\u001b[0m\u001b[0;34m\"guess b: \"\u001b[0m\u001b[0;34m,\u001b[0m\u001b[0mguess_b\u001b[0m\u001b[0;34m)\u001b[0m\u001b[0;34m\u001b[0m\u001b[0;34m\u001b[0m\u001b[0m\n",
            "\u001b[0;32m<ipython-input-66-0a7fd0f28cdf>\u001b[0m in \u001b[0;36mdlog\u001b[0;34m(y, base, mod)\u001b[0m\n\u001b[1;32m      1\u001b[0m \u001b[0;32mdef\u001b[0m \u001b[0mdlog\u001b[0m\u001b[0;34m(\u001b[0m\u001b[0my\u001b[0m\u001b[0;34m,\u001b[0m\u001b[0mbase\u001b[0m\u001b[0;34m,\u001b[0m\u001b[0mmod\u001b[0m\u001b[0;34m)\u001b[0m\u001b[0;34m:\u001b[0m\u001b[0;34m\u001b[0m\u001b[0;34m\u001b[0m\u001b[0m\n\u001b[1;32m      2\u001b[0m   \u001b[0;32mfor\u001b[0m \u001b[0mi\u001b[0m \u001b[0;32min\u001b[0m \u001b[0mrange\u001b[0m\u001b[0;34m(\u001b[0m\u001b[0mmod\u001b[0m\u001b[0;34m-\u001b[0m\u001b[0;36m1\u001b[0m\u001b[0;34m)\u001b[0m\u001b[0;34m:\u001b[0m\u001b[0;31m#assuming mod is prime\u001b[0m\u001b[0;34m\u001b[0m\u001b[0;34m\u001b[0m\u001b[0m\n\u001b[0;32m----> 3\u001b[0;31m     \u001b[0;32mif\u001b[0m\u001b[0;34m(\u001b[0m\u001b[0mpow\u001b[0m\u001b[0;34m(\u001b[0m\u001b[0mbase\u001b[0m\u001b[0;34m,\u001b[0m\u001b[0mi\u001b[0m\u001b[0;34m,\u001b[0m\u001b[0mmod\u001b[0m\u001b[0;34m)\u001b[0m\u001b[0;34m==\u001b[0m\u001b[0my\u001b[0m\u001b[0;34m)\u001b[0m\u001b[0;34m:\u001b[0m\u001b[0;34m\u001b[0m\u001b[0;34m\u001b[0m\u001b[0m\n\u001b[0m\u001b[1;32m      4\u001b[0m       \u001b[0;32mreturn\u001b[0m \u001b[0mi\u001b[0m\u001b[0;34m\u001b[0m\u001b[0;34m\u001b[0m\u001b[0m\n\u001b[1;32m      5\u001b[0m \u001b[0;34m\u001b[0m\u001b[0m\n",
            "\u001b[0;31mKeyboardInterrupt\u001b[0m: "
          ]
        }
      ]
    },
    {
      "cell_type": "code",
      "source": [
        "guess_key=pow(g,(guess_a*guess_b),p)\n",
        "assert guess_key==SA"
      ],
      "metadata": {
        "id": "CWQMmWm5maAQ"
      },
      "execution_count": null,
      "outputs": []
    },
    {
      "cell_type": "code",
      "source": [
        "print(\"the cracked secret was:\",guess_key)\n",
        "print(\"the actual shared secret is:\",SA,SB)"
      ],
      "metadata": {
        "id": "7ubUZ-CvmnXm"
      },
      "execution_count": null,
      "outputs": []
    },
    {
      "cell_type": "markdown",
      "source": [
        "To solve this problem we can take a larger p value"
      ],
      "metadata": {
        "id": "itY17Qb5nWkw"
      }
    },
    {
      "cell_type": "code",
      "source": [
        "from math import log2\n",
        "print(\"the amount of security the prime we used offers is:\",int(log2(p)),\"bits\")"
      ],
      "metadata": {
        "id": "devD0kz2nZxT"
      },
      "execution_count": null,
      "outputs": []
    },
    {
      "cell_type": "code",
      "source": [],
      "metadata": {
        "id": "jlub6ri9nr5G"
      },
      "execution_count": null,
      "outputs": []
    }
  ]
}