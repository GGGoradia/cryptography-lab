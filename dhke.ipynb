{
  "nbformat": 4,
  "nbformat_minor": 0,
  "metadata": {
    "colab": {
      "provenance": [],
      "authorship_tag": "ABX9TyN8lMBgvwGvl3XSiyBcaKN0",
      "include_colab_link": true
    },
    "kernelspec": {
      "name": "python3",
      "display_name": "Python 3"
    },
    "language_info": {
      "name": "python"
    }
  },
  "cells": [
    {
      "cell_type": "markdown",
      "metadata": {
        "id": "view-in-github",
        "colab_type": "text"
      },
      "source": [
        "<a href=\"https://colab.research.google.com/github/GGGoradia/cryptography-lab/blob/main/dhke.ipynb\" target=\"_parent\"><img src=\"https://colab.research.google.com/assets/colab-badge.svg\" alt=\"Open In Colab\"/></a>"
      ]
    },
    {
      "cell_type": "code",
      "execution_count": 7,
      "metadata": {
        "colab": {
          "base_uri": "https://localhost:8080/"
        },
        "id": "zsGNUVzCjnjp",
        "outputId": "0b9d6f84-c3f0-49a8-8298-43c9a82eaf01"
      },
      "outputs": [
        {
          "output_type": "stream",
          "name": "stdout",
          "text": [
            "public parameters 23 11\n"
          ]
        }
      ],
      "source": [
        "p=23#public parameters\n",
        "g=11\n",
        "print(\"public parameters\",p,g)"
      ]
    },
    {
      "cell_type": "code",
      "source": [
        "#alices computation\n",
        "import random\n",
        "a=random.randint(1,1000)\n",
        "A=pow(g,a,p)"
      ],
      "metadata": {
        "id": "X9zI3PrTj877"
      },
      "execution_count": 2,
      "outputs": []
    },
    {
      "cell_type": "code",
      "source": [
        "#bobs computation\n",
        "b=random.randint(1,1000)\n",
        "B=pow(g,b,p)\n"
      ],
      "metadata": {
        "id": "j0OEFZktkiM1"
      },
      "execution_count": 3,
      "outputs": []
    },
    {
      "cell_type": "code",
      "source": [
        "#alice recieving bobs message\n",
        "print(\"bob to alice: \",B)\n",
        "SA=pow(B,a,p)"
      ],
      "metadata": {
        "colab": {
          "base_uri": "https://localhost:8080/"
        },
        "id": "JUj7QQ4Jkl_A",
        "outputId": "c29c75aa-5a6a-4a10-e0f4-b65b5c02ed6c"
      },
      "execution_count": 4,
      "outputs": [
        {
          "output_type": "stream",
          "name": "stdout",
          "text": [
            "bob to alice:  13\n"
          ]
        }
      ]
    },
    {
      "cell_type": "code",
      "source": [
        "#bob recieving alices message\n",
        "print(\"alice to bob: \",A)\n",
        "SB=pow(A,b,p)\n"
      ],
      "metadata": {
        "colab": {
          "base_uri": "https://localhost:8080/"
        },
        "id": "gG_rHqBik1a_",
        "outputId": "7e08c07c-f709-4ef3-e94c-5c3b17665dca"
      },
      "execution_count": 5,
      "outputs": [
        {
          "output_type": "stream",
          "name": "stdout",
          "text": [
            "alice to bob:  17\n"
          ]
        }
      ]
    },
    {
      "cell_type": "code",
      "source": [
        "assert SA==SB\n",
        "print(\"alice and bob now have the same shared key\")\n"
      ],
      "metadata": {
        "id": "h0OwEWTvlALW"
      },
      "execution_count": 6,
      "outputs": []
    },
    {
      "cell_type": "markdown",
      "source": [
        "We have only seen the public parameters and what alice sent to bob and what bob sent to alice.Now we will find the shared the key from just the public information. This is a man in the middle attack."
      ],
      "metadata": {
        "id": "OyipUvbrlchk"
      }
    },
    {
      "cell_type": "code",
      "source": [
        "def dlog(y,base,mod):\n",
        "  for i in range(mod-1):#assuming mod is prime\n",
        "    if(pow(base,i,mod)==y):\n",
        "      return i\n",
        ""
      ],
      "metadata": {
        "id": "RSfn4KU3lgqB"
      },
      "execution_count": 8,
      "outputs": []
    },
    {
      "cell_type": "code",
      "source": [
        "import time\n",
        "_n=time.perf_counter()\n",
        "guess_a=dlog(A,g,p)\n",
        "guess_b=dlog(B,g,p)\n",
        "print(\"guess a: \",guess_a)\n",
        "print(\"guess b: \",guess_b)\n",
        "print(\"time taken to guess:\",time.perf_counter()-_n)"
      ],
      "metadata": {
        "colab": {
          "base_uri": "https://localhost:8080/"
        },
        "id": "gLE8Ir7bmRWU",
        "outputId": "2294fb6a-a6ae-4259-defa-4fc126196d37"
      },
      "execution_count": 13,
      "outputs": [
        {
          "output_type": "stream",
          "name": "stdout",
          "text": [
            "guess a:  13\n",
            "guess b:  4\n",
            "time taken to guess: 0.0002883500001189532\n"
          ]
        }
      ]
    },
    {
      "cell_type": "code",
      "source": [
        "guess_key=pow(g,(guess_a*guess_b),p)\n",
        "assert guess_key==SA"
      ],
      "metadata": {
        "id": "CWQMmWm5maAQ"
      },
      "execution_count": 10,
      "outputs": []
    },
    {
      "cell_type": "code",
      "source": [
        "print(\"the cracked secret was:\",guess_key)\n",
        "print(\"the actual shared secret is:\",SA,SB)"
      ],
      "metadata": {
        "colab": {
          "base_uri": "https://localhost:8080/"
        },
        "id": "7ubUZ-CvmnXm",
        "outputId": "455c4906-24d2-4019-b320-24a40fd60269"
      },
      "execution_count": 12,
      "outputs": [
        {
          "output_type": "stream",
          "name": "stdout",
          "text": [
            "the cracked secret was: 8\n",
            "the actual shared secret is: 8 8\n"
          ]
        }
      ]
    },
    {
      "cell_type": "markdown",
      "source": [
        "To solve this problem we can take a larger p value"
      ],
      "metadata": {
        "id": "itY17Qb5nWkw"
      }
    },
    {
      "cell_type": "code",
      "source": [
        "from math import log2\n",
        "print(\"the amount of security the prime we used offers is:\",int(log2(p)),\"bits\")"
      ],
      "metadata": {
        "colab": {
          "base_uri": "https://localhost:8080/"
        },
        "id": "devD0kz2nZxT",
        "outputId": "f39de5f3-3f0d-4b52-fabb-cbf189e38a0e"
      },
      "execution_count": 17,
      "outputs": [
        {
          "output_type": "stream",
          "name": "stdout",
          "text": [
            "the amount of security the prime we used offers is: 4 bits\n"
          ]
        }
      ]
    },
    {
      "cell_type": "code",
      "source": [],
      "metadata": {
        "id": "jlub6ri9nr5G"
      },
      "execution_count": null,
      "outputs": []
    }
  ]
}